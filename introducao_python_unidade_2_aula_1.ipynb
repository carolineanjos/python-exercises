{
  "nbformat": 4,
  "nbformat_minor": 0,
  "metadata": {
    "colab": {
      "provenance": []
    },
    "kernelspec": {
      "name": "python3",
      "display_name": "Python 3"
    },
    "language_info": {
      "name": "python"
    }
  },
  "cells": [
    {
      "cell_type": "code",
      "execution_count": 3,
      "metadata": {
        "colab": {
          "base_uri": "https://localhost:8080/"
        },
        "id": "gwqsVbLBNmGi",
        "outputId": "e4d2dd6e-b00a-47ae-9434-e9274bf61791"
      },
      "outputs": [
        {
          "output_type": "stream",
          "name": "stdout",
          "text": [
            "Tamanho do texto = 64\n",
            "Python in texto = True\n",
            "Quantidade de e no texto = 5\n",
            "As 5 primeiras letras são: Explo\n"
          ]
        }
      ],
      "source": [
        "#Sequências\n",
        "texto = \"Explorando a diversidade de linguagens de programação com Python\"\n",
        "\n",
        "print(f\"Tamanho do texto = {len(texto)}\")\n",
        "print(f\"Python in texto = {'Python' in texto}\")\n",
        "print(f\"Quantidade de e no texto = {texto.count('e')}\")\n",
        "print(f\"As 5 primeiras letras são: {texto[:5]}\")"
      ]
    },
    {
      "cell_type": "code",
      "source": [
        "#Listas\n",
        "cores = ['vermelho', 'azul', 'verde', 'amarelo', 'rosa']\n",
        "for cor in cores:\n",
        "  print(f'Posição = {cores.index(cor)}, cor = {cor}')"
      ],
      "metadata": {
        "colab": {
          "base_uri": "https://localhost:8080/"
        },
        "id": "O3rSp_y_OdBg",
        "outputId": "029e9c4f-6d27-4cb4-cae9-363274fe8695"
      },
      "execution_count": 7,
      "outputs": [
        {
          "output_type": "stream",
          "name": "stdout",
          "text": [
            "Posição = 0, cor = vermelho\n",
            "Posição = 1, cor = azul\n",
            "Posição = 2, cor = verde\n",
            "Posição = 3, cor = amarelo\n",
            "Posição = 4, cor = rosa\n"
          ]
        }
      ]
    },
    {
      "cell_type": "code",
      "source": [
        "#Tuplas -- imutáveis\n",
        "\n",
        "vogais = ('a', 'e', 'i', 'o', 'u')\n",
        "print(f\"Tipo de objeto vogais = {type(vogais)}\")\n",
        "\n",
        "for p, x in enumerate(vogais):\n",
        "  print(f\"Posição = {p}, valor = {x}\")\n"
      ],
      "metadata": {
        "colab": {
          "base_uri": "https://localhost:8080/"
        },
        "id": "0bAdWpVlTk4J",
        "outputId": "d33d47f4-27f5-472b-e12d-2dbb682d08b5"
      },
      "execution_count": 8,
      "outputs": [
        {
          "output_type": "stream",
          "name": "stdout",
          "text": [
            "Tipo de objeto vogais = <class 'tuple'>\n",
            "Posição = 0, valor = a\n",
            "Posição = 1, valor = e\n",
            "Posição = 2, valor = i\n",
            "Posição = 3, valor = o\n",
            "Posição = 4, valor = u\n"
          ]
        }
      ]
    },
    {
      "cell_type": "code",
      "source": [
        "convidados = (\"Alice\", \"Carol\", \"Bob\", \"David\", \"Eva\")\n",
        "\n",
        "confirmados = ['Bob', 'David']\n",
        "\n",
        "nao_confirmados = [convidado for convidado in convidados if convidado not in confirmados]\n",
        "\n",
        "print(\"Convidados que ainda não confirmaram:\")\n",
        "for pessoa in nao_confirmados:\n",
        "  print(pessoa)\n",
        "\n",
        "print(\"\\n Enviando lembretes para os convidados que ainda não confirmaram\")"
      ],
      "metadata": {
        "colab": {
          "base_uri": "https://localhost:8080/"
        },
        "id": "jD_gwaEXVvYZ",
        "outputId": "7dcae278-46a6-4eac-a925-74f4e0bcff72"
      },
      "execution_count": 9,
      "outputs": [
        {
          "output_type": "stream",
          "name": "stdout",
          "text": [
            "Convidados que ainda não confirmaram:\n",
            "Alice\n",
            "Carol\n",
            "Eva\n",
            "\n",
            " Enviando lembretes para os convidados que ainda não confirmaram\n"
          ]
        }
      ]
    },
    {
      "cell_type": "code",
      "source": [],
      "metadata": {
        "id": "2we_zwLDWdZ8"
      },
      "execution_count": null,
      "outputs": []
    }
  ]
}