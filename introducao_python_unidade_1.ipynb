{
  "nbformat": 4,
  "nbformat_minor": 0,
  "metadata": {
    "colab": {
      "provenance": []
    },
    "kernelspec": {
      "name": "python3",
      "display_name": "Python 3"
    },
    "language_info": {
      "name": "python"
    }
  },
  "cells": [
    {
      "cell_type": "code",
      "execution_count": null,
      "metadata": {
        "colab": {
          "base_uri": "https://localhost:8080/"
        },
        "id": "djvrxVNfuSlo",
        "outputId": "e7914061-7080-4910-dc20-1ae3f7f62af1"
      },
      "outputs": [
        {
          "output_type": "stream",
          "name": "stdout",
          "text": [
            "Hello World\n"
          ]
        }
      ],
      "source": [
        "print(\"Hello World\")"
      ]
    },
    {
      "cell_type": "code",
      "source": [
        "nome = input(\"Digite um nome: \")\n",
        "\n",
        "print(f\"Olá {nome}, bem vinda ao mundo do Python\")"
      ],
      "metadata": {
        "colab": {
          "base_uri": "https://localhost:8080/"
        },
        "id": "qdf0QVhDuwtd",
        "outputId": "e0f4cf17-b75e-4a01-f154-aa808d4a566b"
      },
      "execution_count": null,
      "outputs": [
        {
          "output_type": "stream",
          "name": "stdout",
          "text": [
            "Digite um nome: Caroline\n",
            "Olá Caroline, bem vinda ao mundo do Python\n"
          ]
        }
      ]
    },
    {
      "cell_type": "code",
      "source": [
        "idade = int(input(\"Digite a sua idade\"))\n",
        "\n",
        "if idade <= 12:\n",
        "  print(\"O Filme recomendado é o 1\")\n",
        "elif idade > 12 and idade <= 18:\n",
        "  print(\"O filme recomendado é o 2\")\n",
        "else:\n",
        "  print(\"O filme recomendado é o 3\")\n",
        "\n",
        "quantidade_ingresso = 10\n",
        "if quantidade_ingresso > 0:\n",
        "  print(f\"Temos {quantidade_ingresso} ingressos disponíveis\")\n",
        "else:\n",
        "  print(\"Não temos mais ingresso disponível\")"
      ],
      "metadata": {
        "colab": {
          "base_uri": "https://localhost:8080/"
        },
        "id": "52IRUlqozSSh",
        "outputId": "83646d9a-b483-4062-a897-6996cfadc94a"
      },
      "execution_count": null,
      "outputs": [
        {
          "output_type": "stream",
          "name": "stdout",
          "text": [
            "Digite a sua idade10\n",
            "O Filme recomendado é o 1\n",
            "Temos 10 ingressos disponíveis\n"
          ]
        }
      ]
    },
    {
      "cell_type": "code",
      "source": [
        "numeros = [1,2,3,4,5]\n",
        "\n",
        "for num in numeros:\n",
        "    print(num)"
      ],
      "metadata": {
        "colab": {
          "base_uri": "https://localhost:8080/"
        },
        "id": "jL8Htb7fzbuW",
        "outputId": "c3833da1-5d69-4d65-9e6e-3046ef4f5ff6"
      },
      "execution_count": null,
      "outputs": [
        {
          "output_type": "stream",
          "name": "stdout",
          "text": [
            "1\n",
            "2\n",
            "3\n",
            "4\n",
            "5\n"
          ]
        }
      ]
    },
    {
      "cell_type": "code",
      "source": [
        "for numero in range(5,11):\n",
        "  if numero % 2 == 0:\n",
        "    print(\"o primeiro numero encontrado par é: \", numero)\n",
        "    break"
      ],
      "metadata": {
        "colab": {
          "base_uri": "https://localhost:8080/"
        },
        "id": "0DfsYaXs2uPP",
        "outputId": "1a774b55-f78a-469f-9bd3-5dfe14652211"
      },
      "execution_count": null,
      "outputs": [
        {
          "output_type": "stream",
          "name": "stdout",
          "text": [
            "o primeiro numero encontrado par é:  6\n"
          ]
        }
      ]
    },
    {
      "cell_type": "code",
      "source": [
        "for numero in range(5,11):\n",
        "  if numero == 6:\n",
        "    continue\n",
        "  print(numero)"
      ],
      "metadata": {
        "colab": {
          "base_uri": "https://localhost:8080/"
        },
        "id": "Qh3oarVi4Dhk",
        "outputId": "d731d545-8021-4e5f-ef4d-e21d895c55f9"
      },
      "execution_count": null,
      "outputs": [
        {
          "output_type": "stream",
          "name": "stdout",
          "text": [
            "5\n",
            "7\n",
            "8\n",
            "9\n",
            "10\n"
          ]
        }
      ]
    },
    {
      "cell_type": "code",
      "source": [
        "filmes = [\"Filme 1\", \"Filme 2\", \"Filme 3\", \"Filme 4\", \"Filme 5\"]\n",
        "\n",
        "for filme in filmes:\n",
        "  while True:\n",
        "\n",
        "    classificacao = input(f\"Nota de {filme} entre 1 e 5? (ou 0 para parar): \")\n",
        "\n",
        "    if classificacao == 0:\n",
        "      print(\"Classificação interrompida\")\n",
        "      break\n",
        "\n",
        "    classificacao = int(classificacao)\n",
        "\n",
        "    if classificacao < 1 or classificacao > 5:\n",
        "      print(\"nota fora do escopo\")\n",
        "    else:\n",
        "      print(f\"{filme} com {classificacao} estrelas\")\n",
        "      break\n",
        "\n"
      ],
      "metadata": {
        "id": "H_2gF-wQ8MuJ"
      },
      "execution_count": null,
      "outputs": []
    },
    {
      "cell_type": "code",
      "source": [
        "def soma(a,b):\n",
        "  resultado = a + b\n",
        "  return resultado\n",
        "\n",
        "resultado_soma = soma(4555, 9)\n",
        "print(resultado_soma)"
      ],
      "metadata": {
        "colab": {
          "base_uri": "https://localhost:8080/"
        },
        "id": "m0eq0S2LI8YG",
        "outputId": "32da41d1-a8b8-4fe5-b7a9-49562a49e18c"
      },
      "execution_count": 7,
      "outputs": [
        {
          "output_type": "stream",
          "name": "stdout",
          "text": [
            "4546\n"
          ]
        }
      ]
    },
    {
      "cell_type": "code",
      "source": [
        "notas = [7.5, 6.9, 7.0, 8.5, 9.5]\n",
        "\n",
        "#função regular para calcular média:\n",
        "def calcular_media(notas):\n",
        "  total = sum(notas)\n",
        "  media = total / len(notas)\n",
        "  return media\n",
        "\n",
        "fix_media = lambda media: round(media, 2)\n",
        "\n",
        "media = calcular_media(notas)\n",
        "media_fixed = fix_media(media)\n",
        "\n",
        "situacao = \"Aprovado\" if media_fixed >= 7 else \"Reprovado\"\n",
        "\n",
        "print(\"nota dos estudantes: \", notas)\n",
        "print(\"media dos estudantes: \", media_fixed)\n",
        "print(\"dituacao dos estudantes: \", situacao)"
      ],
      "metadata": {
        "colab": {
          "base_uri": "https://localhost:8080/"
        },
        "id": "pP7fiMTvMulP",
        "outputId": "d524599b-47c2-4736-b29d-c17aad7a755b"
      },
      "execution_count": 9,
      "outputs": [
        {
          "output_type": "stream",
          "name": "stdout",
          "text": [
            "nota dos estudantes:  [7.5, 6.9, 7.0, 8.5, 9.5]\n",
            "media dos estudantes:  7.88\n",
            "dituacao dos estudantes:  Aprovado\n"
          ]
        }
      ]
    }
  ]
}