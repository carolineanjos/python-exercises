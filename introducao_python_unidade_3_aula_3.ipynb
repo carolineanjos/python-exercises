{
  "nbformat": 4,
  "nbformat_minor": 0,
  "metadata": {
    "colab": {
      "provenance": []
    },
    "kernelspec": {
      "name": "python3",
      "display_name": "Python 3"
    },
    "language_info": {
      "name": "python"
    }
  },
  "cells": [
    {
      "cell_type": "code",
      "execution_count": null,
      "metadata": {
        "id": "bNx4kVbMNnzF"
      },
      "outputs": [],
      "source": [
        "import pandas as pd\n",
        "\n",
        "df_selic = pd.read_json('https://api.bcb.gov.br/dados/serie/bcdata.sgs.11/dados?dataInicial=03/10/2015&dataFinal=03/10/2025')\n",
        "\n",
        "print(df_selic.info())\n",
        "print(df_selic)"
      ]
    },
    {
      "cell_type": "code",
      "source": [
        "#verificar duplicidade de linhas (mantém o ultimo registro)\n",
        "df_selic.drop_duplicates(keep='last', inplace=True)"
      ],
      "metadata": {
        "id": "uW0NU286PX9v"
      },
      "execution_count": 5,
      "outputs": []
    },
    {
      "cell_type": "code",
      "source": [
        "from datetime import date as dt\n",
        "\n",
        "data_extracao = dt.today()\n",
        "\n",
        "df_selic['data_extracao'] = data_extracao\n",
        "df_selic['responsavel'] = 'Autor'\n",
        "\n",
        "print(df_selic.info())\n",
        "df_selic.head()\n"
      ],
      "metadata": {
        "id": "fkO_SQhOPnl6"
      },
      "execution_count": null,
      "outputs": []
    },
    {
      "cell_type": "code",
      "source": [
        "df_selic.loc[0]"
      ],
      "metadata": {
        "colab": {
          "base_uri": "https://localhost:8080/",
          "height": 210
        },
        "id": "rJlvABBnQmEP",
        "outputId": "3c7186a6-8802-404d-bc65-5da6a2a49f07"
      },
      "execution_count": 7,
      "outputs": [
        {
          "output_type": "execute_result",
          "data": {
            "text/plain": [
              "data             05/10/2015\n",
              "valor              0.052531\n",
              "data_extracao    2025-10-03\n",
              "responsavel           Autor\n",
              "Name: 0, dtype: object"
            ],
            "text/html": [
              "<div>\n",
              "<style scoped>\n",
              "    .dataframe tbody tr th:only-of-type {\n",
              "        vertical-align: middle;\n",
              "    }\n",
              "\n",
              "    .dataframe tbody tr th {\n",
              "        vertical-align: top;\n",
              "    }\n",
              "\n",
              "    .dataframe thead th {\n",
              "        text-align: right;\n",
              "    }\n",
              "</style>\n",
              "<table border=\"1\" class=\"dataframe\">\n",
              "  <thead>\n",
              "    <tr style=\"text-align: right;\">\n",
              "      <th></th>\n",
              "      <th>0</th>\n",
              "    </tr>\n",
              "  </thead>\n",
              "  <tbody>\n",
              "    <tr>\n",
              "      <th>data</th>\n",
              "      <td>05/10/2015</td>\n",
              "    </tr>\n",
              "    <tr>\n",
              "      <th>valor</th>\n",
              "      <td>0.052531</td>\n",
              "    </tr>\n",
              "    <tr>\n",
              "      <th>data_extracao</th>\n",
              "      <td>2025-10-03</td>\n",
              "    </tr>\n",
              "    <tr>\n",
              "      <th>responsavel</th>\n",
              "      <td>Autor</td>\n",
              "    </tr>\n",
              "  </tbody>\n",
              "</table>\n",
              "</div><br><label><b>dtype:</b> object</label>"
            ]
          },
          "metadata": {},
          "execution_count": 7
        }
      ]
    },
    {
      "cell_type": "code",
      "source": [
        "teste = df_selic['valor'] < 0.01\n",
        "print(type(teste))\n",
        "print(teste)"
      ],
      "metadata": {
        "colab": {
          "base_uri": "https://localhost:8080/"
        },
        "id": "kVhk1ygNQqRi",
        "outputId": "b2ac2f8e-33c3-463c-d47f-7e490377db8f"
      },
      "execution_count": 9,
      "outputs": [
        {
          "output_type": "stream",
          "name": "stdout",
          "text": [
            "<class 'pandas.core.series.Series'>\n",
            "0       False\n",
            "1       False\n",
            "2       False\n",
            "3       False\n",
            "4       False\n",
            "        ...  \n",
            "2504    False\n",
            "2505    False\n",
            "2506    False\n",
            "2507    False\n",
            "2508    False\n",
            "Name: valor, Length: 2509, dtype: bool\n"
          ]
        }
      ]
    },
    {
      "cell_type": "code",
      "source": [
        "import pandas as pd\n",
        "\n",
        "#criando um dataframa com 5 linhas\n",
        "data = {\n",
        "    'nome': ['Produto A', 'Produto B', 'Produto C', 'PRoduto D', 'Produto E'],\n",
        "    'quantidade': [2,4,5,6,1],\n",
        "    'tipo': ['eletrônico','vestuário', 'alimento', 'eletrônico', 'vestuário'],\n",
        "    'total': [120,45,79,90,98]\n",
        "}\n",
        "\n",
        "df = pd.DataFrame(data)\n",
        "print(df)"
      ],
      "metadata": {
        "colab": {
          "base_uri": "https://localhost:8080/"
        },
        "id": "lyelqpJ6RA12",
        "outputId": "6dc64edb-5ffb-467e-cbd9-271301e51b41"
      },
      "execution_count": 11,
      "outputs": [
        {
          "output_type": "stream",
          "name": "stdout",
          "text": [
            "        nome  quantidade        tipo  total\n",
            "0  Produto A           2  eletrônico    120\n",
            "1  Produto B           4   vestuário     45\n",
            "2  Produto C           5    alimento     79\n",
            "3  PRoduto D           6  eletrônico     90\n",
            "4  Produto E           1   vestuário     98\n"
          ]
        }
      ]
    },
    {
      "cell_type": "code",
      "source": [
        "df['preço'] = df['total'] / df['quantidade']\n",
        "\n",
        "itens_acima_de_50 = df[df['preço'] > 50]\n",
        "\n",
        "print(itens_acima_de_50)"
      ],
      "metadata": {
        "colab": {
          "base_uri": "https://localhost:8080/"
        },
        "id": "hrMw35nmR2Rp",
        "outputId": "69e5f818-990e-4731-b120-22866100231a"
      },
      "execution_count": 13,
      "outputs": [
        {
          "output_type": "stream",
          "name": "stdout",
          "text": [
            "        nome  quantidade        tipo  total  preço\n",
            "0  Produto A           2  eletrônico    120   60.0\n",
            "4  Produto E           1   vestuário     98   98.0\n"
          ]
        }
      ]
    }
  ]
}