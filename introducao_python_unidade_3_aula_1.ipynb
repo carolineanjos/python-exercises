{
  "nbformat": 4,
  "nbformat_minor": 0,
  "metadata": {
    "colab": {
      "provenance": []
    },
    "kernelspec": {
      "name": "python3",
      "display_name": "Python 3"
    },
    "language_info": {
      "name": "python"
    }
  },
  "cells": [
    {
      "cell_type": "code",
      "execution_count": null,
      "metadata": {
        "id": "hv3QLJLd2tjG"
      },
      "outputs": [],
      "source": [
        "import sqlite3\n",
        "\n",
        "#1.Conectar ao banco de dados (ou criar um novo)\n",
        "#com a função connect do sqlite3 para se conectar ao banco\n",
        "#se não existir, será criado automaticamente\n",
        "conn = sqlite3.connect('exemplo.db')\n",
        "\n",
        "#2. Criar um objeto cursor ( usado para executar comandos SQL no banco)\n",
        "#Atua como um ponteiro que percorre os resultados das consultas\n",
        "cursor = conn.cursor()\n",
        "\n",
        "#3. Definir o comando SQL para criar a tabela\n",
        "create_table = \"\"\"\n",
        "CREATE TABLE IF NOT EXISTS Produtos (\n",
        "  id INTEGER PRIMARY KEY,\n",
        "  nome TEXT NOT NULL,\n",
        "  preco REAL NOT NULL,\n",
        "  estoque INTEGER\n",
        ");\n",
        "\"\"\"\n",
        "\n",
        "#4. Executar o comando SQL para criar a tabela\n",
        "cursor.execute(create_table)\n",
        "\n",
        "#5. Confirmar as alterações (commit)\n",
        "conn.commit()\n",
        "\n",
        "#6. Fechar a conexão com o banco de dados\n",
        "conn.close()"
      ]
    },
    {
      "cell_type": "code",
      "source": [
        "import sqlite3\n",
        "\n",
        "#connectando com o banco\n",
        "conn = sqlite3.connect('exemplo.db')\n",
        "cursor = conn.cursor()\n",
        "\n",
        "#dados do novo produto\n",
        "novo_produto = ('Camiseta', 19.99, 50)\n",
        "\n",
        "#comando para inserir novo produto\n",
        "inserir_produto = \"INSERT INTO Produtos (nome, preco, estoque) VALUES (?, ?, ?)\"\n",
        "\n",
        "#executando o comando\n",
        "cursor.execute(inserir_produto, novo_produto)\n",
        "\n",
        "#confirmando as alterações\n",
        "conn.commit()\n",
        "\n",
        "#fechando a conexão\n",
        "conn.close()"
      ],
      "metadata": {
        "id": "i9SBZZNfBoeH"
      },
      "execution_count": 11,
      "outputs": []
    },
    {
      "cell_type": "code",
      "source": [
        "#visualizar produto\n",
        "\n",
        "conn = sqlite3.connect('exemplo.db')\n",
        "cursor = conn.cursor()\n",
        "\n",
        "#comando para selecionar todos os produtos\n",
        "selecionar_produtos = \"SELECT * FROM Produtos\"\n",
        "\n",
        "#executando o comando\n",
        "cursor.execute(selecionar_produtos)\n",
        "\n",
        "#recuperando os resultados\n",
        "produtos = cursor.fetchall()\n",
        "\n",
        "#exibindo os produtos\n",
        "for produto in produtos:\n",
        "    print(produto)\n",
        "\n",
        "#fechando a conexão\n",
        "conn.close()"
      ],
      "metadata": {
        "colab": {
          "base_uri": "https://localhost:8080/"
        },
        "id": "gkHHPKfvCXB-",
        "outputId": "b9a781a3-619a-4e5a-ed89-4ab098db30a8"
      },
      "execution_count": 16,
      "outputs": [
        {
          "output_type": "stream",
          "name": "stdout",
          "text": [
            "(2, 'Camiseta', 19.99, 50)\n"
          ]
        }
      ]
    },
    {
      "cell_type": "code",
      "source": [
        "#atualizar produto\n",
        "conn = sqlite3.connect('exemplo.db')\n",
        "cursor = conn.cursor()\n",
        "\n",
        "#novo preço e id do produto\n",
        "novo_preco = 24.99\n",
        "id_produto = 1\n",
        "\n",
        "atualizar_preco = \"UPDATE Produtos SET preco = ? WHERE id = ?\"\n",
        "\n",
        "#executando o comando\n",
        "cursor.execute(atualizar_preco, (novo_preco, id_produto))\n",
        "\n",
        "#confirmando as alterações\n",
        "conn.commit()\n",
        "\n",
        "#fechando a conexão\n",
        "conn.close()"
      ],
      "metadata": {
        "id": "pt44CeumCt2p"
      },
      "execution_count": 13,
      "outputs": []
    },
    {
      "cell_type": "code",
      "source": [
        "#excluir produto\n",
        "\n",
        "conn = sqlite3.connect('exemplo.db')\n",
        "cursor = conn.cursor()\n",
        "\n",
        "#id do produto a ser excluído\n",
        "id_produto = 1\n",
        "\n",
        "excluir_produto = \"DELETE FROM Produtos WHERE id = ?\"\n",
        "\n",
        "cursor.execute(excluir_produto, (id_produto,))\n",
        "\n",
        "#confirmando as alterações\n",
        "conn.commit()\n",
        "\n",
        "#fechando a conexão\n",
        "conn.close()"
      ],
      "metadata": {
        "id": "gJOn_ypMDL6H"
      },
      "execution_count": 15,
      "outputs": []
    },
    {
      "cell_type": "code",
      "source": [
        "import sqlite3\n",
        "conn = sqlite3.connect('contatos.db')\n",
        "cursor = conn.cursor()\n",
        "cursor.execute('''\n",
        "  CREATE TABLE IF NOT EXISTS Contatos (\n",
        "    id INTEGER PRIMARY KEY AUTOINCREMENT,\n",
        "    nome TEXT NOT NULL,\n",
        "    email TEXT,\n",
        "    telefone TEXT NOT NULL\n",
        "  )\n",
        "''')\n",
        "\n",
        "dados_exemplo = [\n",
        "    ('João', 'joao@email.com', '123-456-7890'),\n",
        "    ('Maria', 'maria@email.com', '987-654-3210'),\n",
        "    ('Carlos', 'carlos@email.com', '8834736-0983')\n",
        "]\n",
        "\n",
        "cursor.executemany('INSERT INTO Contatos (nome, email, telefone) VALUES (?, ?, ?)', dados_exemplo)\n",
        "\n",
        "conn.commit()\n",
        "\n",
        "#READ\n",
        "cursor.execute('SELECT * FROM Contatos')\n",
        "contatos = cursor.fetchall()\n",
        "for contato in contatos:\n",
        "    print(contato)\n",
        "\n",
        "#UPDATE\n",
        "novo_telefone = '999-999-9999'\n",
        "contato_id = 2\n",
        "cursor.execute('UPDATE Contatos SET telefone = ? WHERE id = ?', (novo_telefone, contato_id))\n",
        "conn.commit()\n",
        "\n",
        "#DELETE\n",
        "contato_id_para_deletar = 1\n",
        "cursor.execute('DELETE FROM Contatos WHERE nome = ?', (contato_id_para_deletar,))\n",
        "conn.commit()\n",
        "\n",
        "#fechando conexão\n",
        "conn.close()"
      ],
      "metadata": {
        "colab": {
          "base_uri": "https://localhost:8080/"
        },
        "id": "XWkpjgqEDmfH",
        "outputId": "057fffcd-d643-412c-e5cd-0a61e52c9860"
      },
      "execution_count": 18,
      "outputs": [
        {
          "output_type": "stream",
          "name": "stdout",
          "text": [
            "(1, 'João', 'joao@email.com', '123-456-7890')\n",
            "(2, 'Maria', 'maria@email.com', '999-999-9999')\n",
            "(3, 'Carlos', 'carlos@email.com', '8834736-0983')\n",
            "(4, 'João', 'joao@email.com', '123-456-7890')\n",
            "(5, 'Maria', 'maria@email.com', '987-654-3210')\n",
            "(6, 'Carlos', 'carlos@email.com', '8834736-0983')\n"
          ]
        }
      ]
    }
  ]
}