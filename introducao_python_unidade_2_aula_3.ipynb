{
  "nbformat": 4,
  "nbformat_minor": 0,
  "metadata": {
    "colab": {
      "provenance": []
    },
    "kernelspec": {
      "name": "python3",
      "display_name": "Python 3"
    },
    "language_info": {
      "name": "python"
    }
  },
  "cells": [
    {
      "cell_type": "code",
      "execution_count": 4,
      "metadata": {
        "colab": {
          "base_uri": "https://localhost:8080/"
        },
        "id": "fyIpXhg0EBxA",
        "outputId": "c2a5f30a-2a77-423e-b27d-b555c3b3f967"
      },
      "outputs": [
        {
          "output_type": "stream",
          "name": "stdout",
          "text": [
            "Status do carro: Marca: Toyota, Modelo: Corolla, Ano: 2025, Velocidade: 200 km/h\n",
            "Status da bike: Marca: Treck, Modelo: Mountain Bike, Ano: 2021, Tipo: MTB, Velocidade: 10 km/h\n"
          ]
        }
      ],
      "source": [
        "#Classes e métodos em Python\n",
        "class Veiculo:\n",
        "  def __init__(self, marca, modelo, ano):\n",
        "    self.marca = marca\n",
        "    self.modelo = modelo\n",
        "    self.ano = ano\n",
        "    self.velocidade = 0\n",
        "\n",
        "  def acelerar(self, incremento):\n",
        "    self.velocidade += incremento\n",
        "\n",
        "  def frear(self, decremento):\n",
        "    self.velocidade -+ decremento\n",
        "\n",
        "  def status(self):\n",
        "    return f\"Marca: {self.marca}, Modelo: {self.modelo}, Ano: {self.ano}, Velocidade: {self.velocidade} km/h\"\n",
        "\n",
        "class Carro(Veiculo):\n",
        "  def __init__(self, marca, modelo, ano, potencia):\n",
        "    super().__init__(marca, modelo, ano)\n",
        "    self.potencia = potencia\n",
        "\n",
        "  def acelerar(self, incremento):\n",
        "    #Carros aceleram mais rápido\n",
        "    self.velocidade += incremento + self.potencia\n",
        "\n",
        "class Bicicleta(Veiculo):\n",
        "  def __init__(self, marca, modelo, ano, tipo):\n",
        "    super().__init__(marca, modelo, ano)\n",
        "    self.tipo = tipo\n",
        "\n",
        "  def status(self):\n",
        "    return f\"Marca: {self.marca}, Modelo: {self.modelo}, Ano: {self.ano}, Tipo: {self.tipo}, Velocidade: {self.velocidade} km/h\"\n",
        "\n",
        "#Criando objetos:\n",
        "carro1 = Carro(\"Toyota\", \"Corolla\", 2025, 150)\n",
        "bicicleta1 = Bicicleta(\"Treck\", \"Mountain Bike\", 2021, \"MTB\")\n",
        "\n",
        "carro1.acelerar(50)\n",
        "bicicleta1.acelerar(10)\n",
        "\n",
        "print(f\"Status do carro: {carro1.status()}\")\n",
        "print(f\"Status da bike: {bicicleta1.status()}\")\n"
      ]
    }
  ]
}