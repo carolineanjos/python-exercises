{
  "nbformat": 4,
  "nbformat_minor": 0,
  "metadata": {
    "colab": {
      "provenance": []
    },
    "kernelspec": {
      "name": "python3",
      "display_name": "Python 3"
    },
    "language_info": {
      "name": "python"
    }
  },
  "cells": [
    {
      "cell_type": "code",
      "execution_count": 1,
      "metadata": {
        "id": "1DsHYlzHDIAP"
      },
      "outputs": [],
      "source": [
        "#Criando um conjunto vazio:\n",
        "meu_conjunto = set()"
      ]
    },
    {
      "cell_type": "code",
      "source": [
        "meu_conjunto.add(10)\n",
        "meu_conjunto.add(20)\n",
        "meu_conjunto.add(30)\n",
        "\n",
        "print(\"Conjunto após adicionar elementos: \", meu_conjunto)"
      ],
      "metadata": {
        "colab": {
          "base_uri": "https://localhost:8080/"
        },
        "id": "vSW4-blYDP4R",
        "outputId": "f32507f3-d94d-4eb2-83f9-562421915820"
      },
      "execution_count": 2,
      "outputs": [
        {
          "output_type": "stream",
          "name": "stdout",
          "text": [
            "Conjunto após adicionar elementos:  {10, 20, 30}\n"
          ]
        }
      ]
    },
    {
      "cell_type": "code",
      "source": [
        "elemento = 20\n",
        "\n",
        "if elemento in meu_conjunto:\n",
        "  print(f\"{elemento} está no conjunto\")\n",
        "else:\n",
        "  print(f\"{elemento} não está no conjunto\")\n",
        "\n",
        "meu_conjunto.remove(20)\n",
        "print(f\"Conjunto após remover o elemento 20: \", meu_conjunto)\n"
      ],
      "metadata": {
        "colab": {
          "base_uri": "https://localhost:8080/"
        },
        "id": "jCYwtn_-DjwK",
        "outputId": "c4aa8ad3-44ac-45b0-90c2-45ec818281a6"
      },
      "execution_count": 3,
      "outputs": [
        {
          "output_type": "stream",
          "name": "stdout",
          "text": [
            "20 está no conjunto\n",
            "Conjunto após remover o elemento 20:  {10, 30}\n"
          ]
        }
      ]
    },
    {
      "cell_type": "code",
      "source": [
        "#Criando um dicionário\n",
        "\n",
        "dici_1 = {}\n",
        "dici_1['nome'] = \"Maria\"\n",
        "dici_1['idade'] = 25\n",
        "\n",
        "#Criando um dicionário com pares chave: valor\n",
        "dici_2 = {'nome': 'Maria', 'idade': 25}\n",
        "\n",
        "#Criando um dicionário com uma lista de tuplas representando os pares chave: valor\n",
        "dici_3 = dict([('nome', 'Maria'), ('idade', 25)])\n",
        "\n",
        "#Criando um dicionário usando a função built-in zip() e duas listas, uma para as chaves e outra para os valores.\n",
        "dici_4 = dict(zip(['nome', 'idade'], ['Maria', 25]))\n",
        "\n",
        "print(dici_1 == dici_2 == dici_3 == dici_4)\n",
        "print(dici_1)"
      ],
      "metadata": {
        "colab": {
          "base_uri": "https://localhost:8080/"
        },
        "id": "UyZH1sIDEQ0F",
        "outputId": "37ebbe8d-90df-4286-c127-32cba23a2b00"
      },
      "execution_count": 4,
      "outputs": [
        {
          "output_type": "stream",
          "name": "stdout",
          "text": [
            "True\n",
            "{'nome': 'Maria', 'idade': 25}\n"
          ]
        }
      ]
    },
    {
      "cell_type": "code",
      "source": [
        "# Importe a biblioteca NumPy\n",
        "\n",
        "import numpy as np\n",
        "\n",
        "# Crie um array NumPy de números inteiros\n",
        "\n",
        "my_array = np.array([1, 2, 3, 4, 5])\n",
        "\n",
        "# Imprima o array\n",
        "\n",
        "print('Array original:')\n",
        "\n",
        "print(my_array)\n",
        "\n",
        "# Realize operações matemáticas com o array\n",
        "\n",
        "squared_array = my_array ** 2  # Eleva cada elemento ao quadrado\n",
        "\n",
        "sum_of_elements = np.sum(my_array)  # Calcula a soma de todos os elementos\n",
        "\n",
        "# Imprima os resultados\n",
        "\n",
        "print('\\nArray ao quadrado:')\n",
        "\n",
        "print(squared_array)\n",
        "\n",
        "print('\\nSoma dos elementos:')\n",
        "\n",
        "print(sum_of_elements)\n",
        "\n",
        "# Acesse elementos do array\n",
        "\n",
        "element_at_index_2 = my_array[2]  # Acessa o elemento no índice 2\n",
        "\n",
        "print('\\nElemento no índice 2:', element_at_index_2)\n",
        "\n",
        "#Resultado"
      ],
      "metadata": {
        "colab": {
          "base_uri": "https://localhost:8080/"
        },
        "id": "IuBhGYjlHd7c",
        "outputId": "06c41c1d-cdb5-46e4-e73b-2c8d09d05b80"
      },
      "execution_count": 6,
      "outputs": [
        {
          "output_type": "stream",
          "name": "stdout",
          "text": [
            "Array original:\n",
            "[1 2 3 4 5]\n",
            "\n",
            "Array ao quadrado:\n",
            "[ 1  4  9 16 25]\n",
            "\n",
            "Soma dos elementos:\n",
            "15\n",
            "\n",
            "Elemento no índice 2: 3\n"
          ]
        }
      ]
    },
    {
      "cell_type": "code",
      "source": [
        "import numpy as np\n",
        "\n",
        "participantes = [\n",
        "    {\n",
        "        'nome': 'Alice',\n",
        "        'localizacao': 'EUA',\n",
        "        'afiliacao': 'Universidade A',\n",
        "        'interesses': ['Física', 'Astronomia'],\n",
        "    },\n",
        "    {\n",
        "        'nome': 'Bob',\n",
        "        'localizacao': 'Brasil',\n",
        "        'afiliacao': 'Instituto B',\n",
        "        'interesses': ['Biologia', 'Astronomia']\n",
        "    },\n",
        "    {\n",
        "        'nome': 'Charlie',\n",
        "        'localizacao': 'Índia',\n",
        "        'afiliacao': 'Instituto C',\n",
        "        'interesses': ['Química', 'Engenharia']\n",
        "    }\n",
        "]\n",
        "\n",
        "regioes = set(participante['localizacao'] for participante in participantes)\n",
        "\n",
        "afiliacoes = {}\n",
        "\n",
        "for participante in participantes:\n",
        "  afiliacao = participante['afiliacao']\n",
        "\n",
        "  if afiliacao not in afiliacoes:\n",
        "    afiliacoes[afiliacao] = []\n",
        "\n",
        "  afiliacoes[afiliacao].append(participante['nome'])\n",
        "\n",
        "\n",
        "areas_de_interesse = np.array([interesse for participante in participantes for interesse in participante['interesses']])\n",
        "\n",
        "interesses_unicos, contagem = np.unique(areas_de_interesse, return_counts=True)\n",
        "\n",
        "area_mais_popular = interesses_unicos[np.argmax(contagem)]\n",
        "\n",
        "print('Regiões dos participantes:', regioes)\n",
        "\n",
        "print('Afiliações dos participantes:')\n",
        "\n",
        "for afiliacao, nomes in afiliacoes.items():\n",
        "\n",
        "    print(f\"{afiliacao}: {', '.join(nomes)}\")\n",
        "\n",
        "print('Área de interesse mais popular:', area_mais_popular)"
      ],
      "metadata": {
        "colab": {
          "base_uri": "https://localhost:8080/"
        },
        "id": "34fvgTG3Mhur",
        "outputId": "465461d1-cee2-451e-925c-15365602a300"
      },
      "execution_count": 9,
      "outputs": [
        {
          "output_type": "stream",
          "name": "stdout",
          "text": [
            "Regiões dos participantes: {'Índia', 'Brasil', 'EUA'}\n",
            "Afiliações dos participantes:\n",
            "Universidade A: Alice\n",
            "Instituto B: Bob\n",
            "Instituto C: Charlie\n",
            "Área de interesse mais popular: Astronomia\n"
          ]
        }
      ]
    }
  ]
}